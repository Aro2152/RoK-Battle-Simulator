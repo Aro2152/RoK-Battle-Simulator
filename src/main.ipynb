{
 "cells": [
  {
   "cell_type": "markdown",
   "metadata": {},
   "source": [
    "## <span style=\"color:orange\">Rise Of Kingdoms </span>\n",
    "# <span style=\"color:red\">**Combat simulator** </span>"
   ]
  },
  {
   "cell_type": "code",
   "execution_count": null,
   "metadata": {},
   "outputs": [],
   "source": [
    "# Authors: Aro2152\n",
    "# Copyright (C) 2022 Aro2152\n",
    "\n",
    "# Import python packages\n",
    "import json\n",
    "\n",
    "# Import combat simulator modules\n",
    "from battle_simulator import Battle_Simulator\n",
    "from army import Army\n",
    "\n",
    "# Load armies info\n",
    "army_1_info = json.load(open('../rss/army_1_info.json'))\n",
    "army_2_info = json.load(open('../rss/army_2_info.json'))\n",
    "\n",
    "# Create armies\n",
    "a1 = Army(army_1_info)\n",
    "a2 = Army(army_2_info)\n",
    "\n",
    "# Create combat simulator\n",
    "game = Battle_Simulator(a1, a2)\n",
    "\n",
    "# Start the combat\n",
    "game.fight()"
   ]
  }
 ],
 "metadata": {
  "interpreter": {
   "hash": "14a2b2144d8bd9f0507aeaf1eea0c531dcc136c5ed19f9c5df588d4164ffece8"
  },
  "kernelspec": {
   "display_name": "Python 3.9.6 ('backup_env')",
   "language": "python",
   "name": "python3"
  },
  "language_info": {
   "codemirror_mode": {
    "name": "ipython",
    "version": 3
   },
   "file_extension": ".py",
   "mimetype": "text/x-python",
   "name": "python",
   "nbconvert_exporter": "python",
   "pygments_lexer": "ipython3",
   "version": "3.9.6"
  },
  "orig_nbformat": 4
 },
 "nbformat": 4,
 "nbformat_minor": 2
}
