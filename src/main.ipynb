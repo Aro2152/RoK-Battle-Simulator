{
 "cells": [
  {
   "cell_type": "markdown",
   "metadata": {},
   "source": [
    "## <span style=\"color:orange\">Rise Of Kingdoms </span>\n",
    "# <span style=\"color:red\">**Combat simulator** </span>"
   ]
  },
  {
   "cell_type": "code",
   "execution_count": 1,
   "metadata": {},
   "outputs": [
    {
     "name": "stdout",
     "output_type": "stream",
     "text": [
      "\n",
      "\u001b[95m\u001b[1mReport\u001b[0;0m\n",
      "\n",
      "                Army 1: \n",
      "                    Primary Commander:   Lvl 5 Ghenghis_Khan [1, 0, 0, 0, 0]\n",
      "                    Secondary Commander: Lvl None None None\n",
      "                    \n",
      "                    Troop Buffs:\n",
      "                        Infantry Attack:  \u001b[33m28.0%\u001b[0;0m\n",
      "                        Infantry Defense: \u001b[33m24.0%\u001b[0;0m\n",
      "                        Infantry Health:  \u001b[33m12.5%\u001b[0;0m\n",
      "                        Cavalry Attack:   \u001b[33m36.0%\u001b[0;0m\n",
      "                        Cavalry Defense:  \u001b[33m26.0%\u001b[0;0m\n",
      "                        Cavalry Health:   \u001b[33m12.5%\u001b[0;0m\n",
      "                        Archer Attack:    \u001b[33m29.0%\u001b[0;0m\n",
      "                        Archer Defense:   \u001b[33m24.0%\u001b[0;0m\n",
      "                        Archer Health:    \u001b[33m12.5%\u001b[0;0m\n",
      "                        Siege Attack:     \u001b[33m27.0%\u001b[0;0m\n",
      "                        Siege Defense:    \u001b[33m24.0%\u001b[0;0m\n",
      "                        Siege Health:     \u001b[33m12.5%\u001b[0;0m\n",
      "                    Additional Buffs:\n",
      "                        Damage:                   \u001b[33m0%\u001b[0;0m\n",
      "                        Skill Damage:             \u001b[33m0%\u001b[0;0m\n",
      "                        Additional Skill Damage:  \u001b[33m0%\u001b[0;0m\n",
      "                        Reduce Damage Taken:      \u001b[33m0%\u001b[0;0m\n",
      "                        Reduce Skil Damage Taken: \u001b[33m0%\u001b[0;0m\n",
      "                        Normal Attack Damage:     \u001b[33m1%\u001b[0;0m\n",
      "                        Counter Attack Damage:    \u001b[33m0%\u001b[0;0m\n",
      "                        March Speed:              \u001b[33m{'infantry': 0, 'cavalry': 3, 'archer': 0, 'siege': 0}%\u001b[0;0m\n",
      "            \n",
      "                Army 2: \n",
      "                    Primary Commander:   Lvl 1 Markswoman [1, 0, 5, 5]\n",
      "                    Secondary Commander: Lvl None None None\n",
      "                    \n",
      "                    Troop Buffs:\n",
      "                        Infantry Attack:  \u001b[33m3.5%\u001b[0;0m\n",
      "                        Infantry Defense: \u001b[33m1.5%\u001b[0;0m\n",
      "                        Infantry Health:  \u001b[33m0%\u001b[0;0m\n",
      "                        Cavalry Attack:   \u001b[33m3.5%\u001b[0;0m\n",
      "                        Cavalry Defense:  \u001b[33m1.5%\u001b[0;0m\n",
      "                        Cavalry Health:   \u001b[33m0%\u001b[0;0m\n",
      "                        Archer Attack:    \u001b[33m3.5%\u001b[0;0m\n",
      "                        Archer Defense:   \u001b[33m1.5%\u001b[0;0m\n",
      "                        Archer Health:    \u001b[33m0%\u001b[0;0m\n",
      "                        Siege Attack:     \u001b[33m3.5%\u001b[0;0m\n",
      "                        Siege Defense:    \u001b[33m1.5%\u001b[0;0m\n",
      "                        Siege Health:     \u001b[33m0%\u001b[0;0m\n",
      "                    Additional Buffs:\n",
      "                        Damage:                   \u001b[33m0%\u001b[0;0m\n",
      "                        Skill Damage:             \u001b[33m0%\u001b[0;0m\n",
      "                        Additional Skill Damage:  \u001b[33m0%\u001b[0;0m\n",
      "                        Reduce Damage Taken:      \u001b[33m0%\u001b[0;0m\n",
      "                        Reduce Skil Damage Taken: \u001b[33m0%\u001b[0;0m\n",
      "                        Normal Attack Damage:     \u001b[33m0%\u001b[0;0m\n",
      "                        Counter Attack Damage:    \u001b[33m0%\u001b[0;0m\n",
      "                        March Speed:              \u001b[33m{'infantry': 0, 'cavalry': 0, 'archer': 0, 'siege': 0}%\u001b[0;0m\n",
      "            \n",
      "\u001b[95m\u001b[1mBattle Log\u001b[0;0m\n",
      "\n"
     ]
    },
    {
     "ename": "IndexError",
     "evalue": "list index out of range",
     "output_type": "error",
     "traceback": [
      "\u001b[0;31m---------------------------------------------------------------------------\u001b[0m",
      "\u001b[0;31mIndexError\u001b[0m                                Traceback (most recent call last)",
      "\u001b[0;32m/var/folders/6w/t8tfz0md2hq99xn3lmr4686m0000gn/T/ipykernel_23380/354636860.py\u001b[0m in \u001b[0;36m<module>\u001b[0;34m\u001b[0m\n\u001b[1;32m     21\u001b[0m \u001b[0;34m\u001b[0m\u001b[0m\n\u001b[1;32m     22\u001b[0m \u001b[0;31m# Start the combat\u001b[0m\u001b[0;34m\u001b[0m\u001b[0;34m\u001b[0m\u001b[0;34m\u001b[0m\u001b[0m\n\u001b[0;32m---> 23\u001b[0;31m \u001b[0mgame\u001b[0m\u001b[0;34m.\u001b[0m\u001b[0mfight\u001b[0m\u001b[0;34m(\u001b[0m\u001b[0;34m)\u001b[0m\u001b[0;34m\u001b[0m\u001b[0;34m\u001b[0m\u001b[0m\n\u001b[0m",
      "\u001b[0;32m~/Documents/RoK/RoK-Battle-Simulator/src/battle_simulator.py\u001b[0m in \u001b[0;36mfight\u001b[0;34m(self)\u001b[0m\n\u001b[1;32m    157\u001b[0m \u001b[0;34m\u001b[0m\u001b[0m\n\u001b[1;32m    158\u001b[0m             \u001b[0;31m# Check for active skills\u001b[0m\u001b[0;34m\u001b[0m\u001b[0;34m\u001b[0m\u001b[0;34m\u001b[0m\u001b[0m\n\u001b[0;32m--> 159\u001b[0;31m             \u001b[0;32mif\u001b[0m \u001b[0mself\u001b[0m\u001b[0;34m.\u001b[0m\u001b[0marmy_1\u001b[0m\u001b[0;34m.\u001b[0m\u001b[0mrage\u001b[0m \u001b[0;34m>=\u001b[0m \u001b[0mself\u001b[0m\u001b[0;34m.\u001b[0m\u001b[0marmy_1\u001b[0m\u001b[0;34m.\u001b[0m\u001b[0mactive_skills\u001b[0m\u001b[0;34m[\u001b[0m\u001b[0;36m0\u001b[0m\u001b[0;34m]\u001b[0m\u001b[0;34m[\u001b[0m\u001b[0;34m\"rage_requirement\"\u001b[0m\u001b[0;34m]\u001b[0m\u001b[0;34m:\u001b[0m\u001b[0;34m\u001b[0m\u001b[0;34m\u001b[0m\u001b[0m\n\u001b[0m\u001b[1;32m    160\u001b[0m                 \u001b[0mtrigger_active_skill_1\u001b[0m \u001b[0;34m=\u001b[0m \u001b[0;36m1\u001b[0m\u001b[0;34m\u001b[0m\u001b[0;34m\u001b[0m\u001b[0m\n\u001b[1;32m    161\u001b[0m                 \u001b[0mself\u001b[0m\u001b[0;34m.\u001b[0m\u001b[0marmy_1\u001b[0m\u001b[0;34m.\u001b[0m\u001b[0mrage\u001b[0m \u001b[0;34m=\u001b[0m \u001b[0;36m0\u001b[0m\u001b[0;34m\u001b[0m\u001b[0;34m\u001b[0m\u001b[0m\n",
      "\u001b[0;31mIndexError\u001b[0m: list index out of range"
     ]
    }
   ],
   "source": [
    "# Authors: Aro2152\n",
    "# Copyright (C) 2022 Aro2152\n",
    "\n",
    "# Import python packages\n",
    "import json\n",
    "\n",
    "# Import combat simulator modules\n",
    "from battle_simulator import Battle_Simulator\n",
    "from army import Army\n",
    "\n",
    "# Load armies info\n",
    "army_1_info = json.load(open('../rss/army_1_info.json'))\n",
    "army_2_info = json.load(open('../rss/army_2_info.json'))\n",
    "\n",
    "# Create armies\n",
    "a1 = Army(army_1_info)\n",
    "a2 = Army(army_2_info)\n",
    "\n",
    "# Create combat simulator\n",
    "game = Battle_Simulator(a1, a2)\n",
    "\n",
    "# Start the combat\n",
    "game.fight()"
   ]
  },
  {
   "cell_type": "code",
   "execution_count": null,
   "metadata": {},
   "outputs": [],
   "source": []
  }
 ],
 "metadata": {
  "interpreter": {
   "hash": "14a2b2144d8bd9f0507aeaf1eea0c531dcc136c5ed19f9c5df588d4164ffece8"
  },
  "kernelspec": {
   "display_name": "Python 3.9.6 ('backup_env')",
   "language": "python",
   "name": "python3"
  },
  "language_info": {
   "codemirror_mode": {
    "name": "ipython",
    "version": 3
   },
   "file_extension": ".py",
   "mimetype": "text/x-python",
   "name": "python",
   "nbconvert_exporter": "python",
   "pygments_lexer": "ipython3",
   "version": "3.9.6"
  },
  "orig_nbformat": 4
 },
 "nbformat": 4,
 "nbformat_minor": 2
}
